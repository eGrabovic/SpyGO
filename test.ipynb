{
 "cells": [
  {
   "cell_type": "code",
   "execution_count": 1,
   "metadata": {},
   "outputs": [
    {
     "ename": "OSError",
     "evalue": "exception: access violation reading 0x0000000000000000",
     "output_type": "error",
     "traceback": [
      "\u001b[1;31m---------------------------------------------------------------------------\u001b[0m",
      "\u001b[1;31mOSError\u001b[0m                                   Traceback (most recent call last)",
      "\u001b[1;32m~\\AppData\\Local\\Temp\\ipykernel_75400\\2847884211.py\u001b[0m in \u001b[0;36m<module>\u001b[1;34m\u001b[0m\n\u001b[0;32m     18\u001b[0m \u001b[0mses_file\u001b[0m \u001b[1;33m=\u001b[0m \u001b[1;34m'T3D_spur_sim.ses'\u001b[0m\u001b[1;33m\u001b[0m\u001b[0m\n\u001b[0;32m     19\u001b[0m \u001b[0mlibrary\u001b[0m \u001b[1;33m=\u001b[0m \u001b[0minit_multyx_types\u001b[0m\u001b[1;33m(\u001b[0m\u001b[0mpath\u001b[0m\u001b[1;33m,\u001b[0m \u001b[0mlibrary\u001b[0m\u001b[1;33m)\u001b[0m\u001b[1;33m\u001b[0m\u001b[0m\n\u001b[1;32m---> 20\u001b[1;33m \u001b[0minterface2\u001b[0m\u001b[1;33m,\u001b[0m \u001b[0mseshandle2\u001b[0m \u001b[1;33m=\u001b[0m \u001b[0minit_multyx_session\u001b[0m\u001b[1;33m(\u001b[0m\u001b[0mpath\u001b[0m\u001b[1;33m,\u001b[0m \u001b[0mses_file\u001b[0m\u001b[1;33m,\u001b[0m \u001b[0mlibrary\u001b[0m\u001b[1;33m)\u001b[0m\u001b[1;33m\u001b[0m\u001b[0m\n\u001b[0m\u001b[0;32m     21\u001b[0m \u001b[1;33m\u001b[0m\u001b[0m\n\u001b[0;32m     22\u001b[0m \u001b[1;33m\u001b[0m\u001b[0m\n",
      "\u001b[1;32mc:\\Users\\egrab\\Desktop\\Repositories\\SpyGO\\multyxInterface.py\u001b[0m in \u001b[0;36minit_multyx_session\u001b[1;34m(path, ses_file, multyxlib)\u001b[0m\n\u001b[0;32m    108\u001b[0m     \u001b[1;31m# for all subsequent calls to the opened session.\u001b[0m\u001b[1;33m\u001b[0m\u001b[1;33m\u001b[0m\u001b[0m\n\u001b[0;32m    109\u001b[0m     \u001b[0mSessionFileName\u001b[0m\u001b[1;33m=\u001b[0m\u001b[0mbytes\u001b[0m\u001b[1;33m(\u001b[0m\u001b[0mses_file\u001b[0m\u001b[1;33m,\u001b[0m \u001b[0mencoding\u001b[0m\u001b[1;33m=\u001b[0m\u001b[1;34m'utf-8'\u001b[0m\u001b[1;33m)\u001b[0m\u001b[1;33m\u001b[0m\u001b[0m\n\u001b[1;32m--> 110\u001b[1;33m     \u001b[0mSessionHandle\u001b[0m\u001b[1;33m=\u001b[0m\u001b[0mmultyxlib\u001b[0m\u001b[1;33m.\u001b[0m\u001b[0mOpenMultyxSession\u001b[0m\u001b[1;33m(\u001b[0m\u001b[0mSessionFileName\u001b[0m\u001b[1;33m,\u001b[0m \u001b[0mInfoCallBack\u001b[0m\u001b[1;33m,\u001b[0m \u001b[0mErrorCallBack\u001b[0m\u001b[1;33m,\u001b[0m \u001b[0mWarningCallBack\u001b[0m\u001b[1;33m)\u001b[0m\u001b[1;33m\u001b[0m\u001b[0m\n\u001b[0m\u001b[0;32m    111\u001b[0m     \u001b[1;32mif\u001b[0m \u001b[0mSessionHandle\u001b[0m\u001b[1;33m==\u001b[0m\u001b[0mctypes\u001b[0m\u001b[1;33m.\u001b[0m\u001b[0mc_voidp\u001b[0m\u001b[1;33m(\u001b[0m\u001b[1;32mNone\u001b[0m\u001b[1;33m)\u001b[0m\u001b[1;33m:\u001b[0m\u001b[1;33m\u001b[0m\u001b[0m\n\u001b[0;32m    112\u001b[0m         \u001b[0mprint\u001b[0m\u001b[1;33m(\u001b[0m\u001b[1;34m\"Failed to start session\"\u001b[0m\u001b[1;33m)\u001b[0m\u001b[1;33m\u001b[0m\u001b[0m\n",
      "\u001b[1;31mOSError\u001b[0m: exception: access violation reading 0x0000000000000000"
     ]
    },
    {
     "ename": "",
     "evalue": "",
     "output_type": "error",
     "traceback": [
      "\u001b[1;31mThe Kernel crashed while executing code in the current cell or a previous cell. \n",
      "\u001b[1;31mPlease review the code in the cell(s) to identify a possible cause of the failure. \n",
      "\u001b[1;31mClick <a href='https://aka.ms/vscodeJupyterKernelCrash'>here</a> for more info. \n",
      "\u001b[1;31mView Jupyter <a href='command:jupyter.viewOutput'>log</a> for further details."
     ]
    }
   ],
   "source": [
    "# To call this script from the command line:\n",
    "# python TestOptimizerWindows.py\n",
    "# To call this script from python:\n",
    "# exec(open(\"TestOptimizerWindows.py\").read(),globals())\n",
    "#\n",
    "import ctypes\n",
    "import time\n",
    "from multyxInterface import *\n",
    "# Documentation for package scipy.optimize\n",
    "\n",
    "library=ctypes.cdll.LoadLibrary(\"C:/Program Files/Ansol/Transmission3Dx64/multyx\")\n",
    "path = r'C:\\Users\\egrab\\Desktop\\T3D_test\\load_1'\n",
    "ses_file = 'T3D_sim.ses'\n",
    "library = init_multyx_types(path, library)\n",
    "\n",
    "interface1, seshandle1 = init_multyx_session(path, ses_file, library)\n",
    "path = r'C:\\Users\\egrab\\Desktop\\T3D_spur\\load_1'\n",
    "ses_file = 'T3D_spur_sim.ses'\n",
    "library = init_multyx_types(path, library)\n",
    "interface2, seshandle2 = init_multyx_session(path, ses_file, library)\n",
    "\n",
    "\n",
    "# path = r'C:\\Users\\egrab\\Desktop\\T3D_test\\load_1'\n",
    "# ses_file = 'T3D_sim.ses'\n",
    "# interface1 = Interface(path, ses_file, library)\n",
    "\n",
    "# path = r'C:\\Users\\egrab\\Desktop\\T3D_spur\\load_1'\n",
    "# ses_file = 'T3D_spur_sim.ses'\n",
    "# interface2 = Interface(path, ses_file, library)\n",
    "\n",
    "\n"
   ]
  },
  {
   "cell_type": "code",
   "execution_count": 3,
   "metadata": {},
   "outputs": [
    {
     "name": "stdout",
     "output_type": "stream",
     "text": [
      "<multyxInterface.Interface object at 0x00000272151CE978>\n"
     ]
    }
   ],
   "source": [
    "print(interface1)"
   ]
  },
  {
   "cell_type": "code",
   "execution_count": 5,
   "metadata": {},
   "outputs": [
    {
     "data": {
      "text/plain": [
       "1"
      ]
     },
     "execution_count": 5,
     "metadata": {},
     "output_type": "execute_result"
    }
   ],
   "source": [
    "interface1.ExecuteScript(seshandle1, b'EXIT')\n",
    "interface2.ExecuteScript(seshandle2, b'EDIT')"
   ]
  },
  {
   "cell_type": "code",
   "execution_count": 10,
   "metadata": {},
   "outputs": [],
   "source": [
    "SessionHandle2=multyxlib.OpenMultyxSession(SessionFileName, InfoCallBack, ErrorCallBack, WarningCallBack)"
   ]
  },
  {
   "cell_type": "code",
   "execution_count": 12,
   "metadata": {},
   "outputs": [
    {
     "name": "stdout",
     "output_type": "stream",
     "text": [
      "1556116973600\n",
      "1556146643008\n"
     ]
    },
    {
     "ename": "",
     "evalue": "",
     "output_type": "error",
     "traceback": [
      "\u001b[1;31mThe Kernel crashed while executing code in the current cell or a previous cell. \n",
      "\u001b[1;31mPlease review the code in the cell(s) to identify a possible cause of the failure. \n",
      "\u001b[1;31mClick <a href='https://aka.ms/vscodeJupyterKernelCrash'>here</a> for more info. \n",
      "\u001b[1;31mView Jupyter <a href='command:jupyter.viewOutput'>log</a> for further details."
     ]
    }
   ],
   "source": [
    "print(SessionHandle)\n",
    "print(SessionHandle2)\n",
    "multyxlib.CloseMultyxSession(SessionHandle)\n",
    "multyxlib.CloseMultyxSession(SessionHandle2)"
   ]
  },
  {
   "cell_type": "code",
   "execution_count": 33,
   "metadata": {},
   "outputs": [
    {
     "name": "stdout",
     "output_type": "stream",
     "text": [
      "2021.9896162222\n"
     ]
    },
    {
     "ename": "",
     "evalue": "",
     "output_type": "error",
     "traceback": [
      "\u001b[1;31mThe Kernel crashed while executing code in the current cell or a previous cell. \n",
      "\u001b[1;31mPlease review the code in the cell(s) to identify a possible cause of the failure. \n",
      "\u001b[1;31mClick <a href='https://aka.ms/vscodeJupyterKernelCrash'>here</a> for more info. \n",
      "\u001b[1;31mView Jupyter <a href='command:jupyter.viewOutput'>log</a> for further details."
     ]
    }
   ],
   "source": [
    "Output=ctypes.c_double()\n",
    "retval=multyxlib.GetValueFloatingPointTaggedItem(SessionHandle,b\"PATTERN_CRITICAL_VALUE\",ctypes.byref(Output))\n",
    "if retval==0:\n",
    "    print(\"Failed to get output RMSDEV_CONCAVEPINION\")\n",
    "\n",
    "pres = Output.value\n",
    "print(pres)"
   ]
  },
  {
   "cell_type": "code",
   "execution_count": 1,
   "metadata": {},
   "outputs": [
    {
     "ename": "NameError",
     "evalue": "name 'multyxlib' is not defined",
     "output_type": "error",
     "traceback": [
      "\u001b[1;31m---------------------------------------------------------------------------\u001b[0m",
      "\u001b[1;31mNameError\u001b[0m                                 Traceback (most recent call last)",
      "\u001b[1;32m~\\AppData\\Local\\Temp\\ipykernel_95612\\2384270762.py\u001b[0m in \u001b[0;36m<module>\u001b[1;34m\u001b[0m\n\u001b[1;32m----> 1\u001b[1;33m \u001b[0mmultyxlib\u001b[0m\u001b[1;33m.\u001b[0m\u001b[0mCloseMultyxSession\u001b[0m\u001b[1;33m(\u001b[0m\u001b[0mSessionHandle\u001b[0m\u001b[1;33m)\u001b[0m\u001b[1;33m\u001b[0m\u001b[0m\n\u001b[0m",
      "\u001b[1;31mNameError\u001b[0m: name 'multyxlib' is not defined"
     ]
    }
   ],
   "source": [
    "multyxlib.CloseMultyxSession(SessionHandle)"
   ]
  },
  {
   "cell_type": "code",
   "execution_count": 13,
   "metadata": {},
   "outputs": [
    {
     "name": "stdout",
     "output_type": "stream",
     "text": [
      "1\n",
      "15\n"
     ]
    }
   ],
   "source": [
    "import sys\n",
    "\n",
    "#sys.path.insert(0,r'C:\\Users\\egrab\\Desktop\\Repositories\\SpyGO\\CI_3_7_0')\n",
    "#print(sys.path)\n",
    "import calyx\n",
    "import os\n",
    "import sys\n",
    "import os\n",
    "import ctypes\n",
    "\n",
    "os.chdir(r'C:\\Users\\egrab\\Desktop\\T3D_spur\\load_1')\n",
    "\n",
    "configfile=\"calyxtmp/system.cfg\"\n",
    "commandfile=\"\"\n",
    "licensekeyname=\"Transmission3D\"\n",
    "nthreads=4\n",
    "ci=calyx.CalyxInstance(configfile,commandfile,licensekeyname,nthreads)\n",
    "print(ci.NRANGES)\n",
    "print(ci.RANGENSTEPS[0])\n",
    "# for irange in range(ci.NRANGES):\n",
    "#   for istep in range(ci.RANGENSTEPS[irange]):\n",
    "#         ci.AnalyzeOneStep()\n"
   ]
  },
  {
   "cell_type": "code",
   "execution_count": 15,
   "metadata": {},
   "outputs": [
    {
     "ename": "NameError",
     "evalue": "name 'ci' is not defined",
     "output_type": "error",
     "traceback": [
      "\u001b[1;31m---------------------------------------------------------------------------\u001b[0m",
      "\u001b[1;31mNameError\u001b[0m                                 Traceback (most recent call last)",
      "\u001b[1;32m~\\AppData\\Local\\Temp\\ipykernel_85772\\3276193014.py\u001b[0m in \u001b[0;36m<module>\u001b[1;34m\u001b[0m\n\u001b[1;32m----> 1\u001b[1;33m \u001b[1;32mdel\u001b[0m \u001b[0mci\u001b[0m\u001b[1;33m\u001b[0m\u001b[0m\n\u001b[0m",
      "\u001b[1;31mNameError\u001b[0m: name 'ci' is not defined"
     ]
    }
   ],
   "source": [
    "del ci"
   ]
  },
  {
   "cell_type": "code",
   "execution_count": 1,
   "metadata": {},
   "outputs": [],
   "source": [
    "from hypoid_utils import *\n",
    "from screwCalculus import *\n",
    "import casadi as ca\n",
    "from math import log, sqrt\n",
    "import matplotlib.pyplot as plt"
   ]
  },
  {
   "cell_type": "code",
   "execution_count": 2,
   "metadata": {},
   "outputs": [
    {
     "name": "stdout",
     "output_type": "stream",
     "text": [
      "casdi variable initialized with symbol \n",
      "[[x_0, x_3, x_6], \n",
      " [x_1, x_4, x_7], \n",
      " [x_2, x_5, x_8]], it has dimension (3, 3)\n"
     ]
    }
   ],
   "source": [
    "# initial tests\n",
    "x = ca.SX.sym('x',3,3)\n",
    "print(f\"casdi variable initialized with symbol {x}, it has dimension {x.size()}\")"
   ]
  },
  {
   "cell_type": "code",
   "execution_count": 3,
   "metadata": {},
   "outputs": [],
   "source": [
    "# Reynolds equation\n",
    "\n",
    "# symbolic variables\n",
    "phi = ca.SX.sym('phi')\n",
    "z = ca.SX.sym('z')\n",
    "\n",
    "# numeric values\n",
    "r1 = 10    # boccola\n",
    "C = 1      # gioco\n",
    "r2 = r1-C  # albero\n",
    "\n"
   ]
  },
  {
   "cell_type": "code",
   "execution_count": 4,
   "metadata": {},
   "outputs": [
    {
     "name": "stdout",
     "output_type": "stream",
     "text": [
      "[[-2.         -1.995996   -1.99199199 ...  1.99199199  1.995996\n",
      "   2.        ]\n",
      " [-2.         -1.995996   -1.99199199 ...  1.99199199  1.995996\n",
      "   2.        ]\n",
      " [-2.         -1.995996   -1.99199199 ...  1.99199199  1.995996\n",
      "   2.        ]\n",
      " ...\n",
      " [-2.         -1.995996   -1.99199199 ...  1.99199199  1.995996\n",
      "   2.        ]\n",
      " [-2.         -1.995996   -1.99199199 ...  1.99199199  1.995996\n",
      "   2.        ]\n",
      " [-2.         -1.995996   -1.99199199 ...  1.99199199  1.995996\n",
      "   2.        ]]\n"
     ]
    },
    {
     "data": {
      "text/plain": [
       "Text(0.5, 1.0, 'Colormap of Kzz(x,y)')"
      ]
     },
     "execution_count": 4,
     "metadata": {},
     "output_type": "execute_result"
    },
    {
     "data": {
      "image/png": "[encoded data removed]",
      "text/plain": [
       "<Figure size 640x480 with 2 Axes>"
      ]
     },
     "metadata": {},
     "output_type": "display_data"
    }
   ],
   "source": [
    "# Try to evaluate the solution of Bussinesq integral and find the trend w.r.t. to the distance \n",
    "ni = 0.3\n",
    "E = 206000\n",
    "G = E/2/(1+ni)\n",
    "\n",
    "def Kzz(iprime, jprime, i, j, hx, hy):\n",
    "    deltai=iprime-i\n",
    "    deltaj=jprime-j\n",
    "    k=(deltai+0.5)*hx\n",
    "    m=(deltaj+0.5)*hy\n",
    "    l=(deltai-0.5)*hx\n",
    "    n=(deltaj-0.5)*hy\n",
    "\n",
    "    sk2n2 = np.sqrt(k**2+n**2)\n",
    "    sl2m2 = np.sqrt(l**2+m**2)\n",
    "    sk2m2 = np.sqrt(k**2+m**2)\n",
    "    sl2n2 = np.sqrt(l**2+n**2)\n",
    "\n",
    "    K = (1-ni)/(2*pi*G)\n",
    "    return K*(k*np.log((m+sk2m2)/(n+sk2n2))\\\n",
    "              +l*np.log((n+sl2n2)/(m+sl2m2))\\\n",
    "                +m*np.log((k+sk2m2)/(l+sl2m2))\\\n",
    "                    +n*np.log((l+sl2n2)/(k+sk2n2)))\n",
    "\n",
    "\n",
    "t = np.linspace(-2, 2, 1000)\n",
    "X, Y = np.meshgrid(t, t)\n",
    "print(X)\n",
    "Kzz_matrix = Kzz(0,0,t,t,0.1,0.1)\n",
    "ripples = plt.imshow(Kzz(np.array([0]),np.array([0]),X,Y,np.array([0.1]),np.array([0.1])), extent=[t.min(), t.max(), t.min(), t.max()])\n",
    "plt.colorbar(ripples)\n",
    "plt.title('Colormap of Kzz(x,y)')"
   ]
  },
  {
   "cell_type": "code",
   "execution_count": 1,
   "metadata": {},
   "outputs": [],
   "source": [
    "# Create the data.\n",
    "from numpy import pi, sin, cos, mgrid\n",
    "dphi, dtheta = pi/250.0, pi/250.0\n",
    "[phi,theta] = mgrid[0:pi+dphi*1.5:dphi,0:2*pi+dtheta*1.5:dtheta]\n",
    "m0 = 4; m1 = 3; m2 = 2; m3 = 3; m4 = 6; m5 = 2; m6 = 6; m7 = 4;\n",
    "r = sin(m0*phi)**m1 + cos(m2*phi)**m3 + sin(m4*theta)**m5 + cos(m6*theta)**m7\n",
    "x = r*sin(phi)*cos(theta)\n",
    "y = r*cos(phi)\n",
    "z = r*sin(phi)*sin(theta)\n",
    "\n",
    "# View it.\n",
    "from mayavi import mlab\n",
    "s = mlab.mesh(x, y, z)\n",
    "mlab.show()"
   ]
  },
  {
   "cell_type": "code",
   "execution_count": 2,
   "metadata": {},
   "outputs": [
    {
     "ename": "",
     "evalue": "",
     "output_type": "error",
     "traceback": [
      "\u001b[1;31mThe Kernel crashed while executing code in the current cell or a previous cell. \n",
      "\u001b[1;31mPlease review the code in the cell(s) to identify a possible cause of the failure. \n",
      "\u001b[1;31mClick <a href='https://aka.ms/vscodeJupyterKernelCrash'>here</a> for more info. \n",
      "\u001b[1;31mView Jupyter <a href='command:jupyter.viewOutput'>log</a> for further details."
     ]
    }
   ],
   "source": [
    "import numpy as np\n",
    "from mayavi import mlab\n",
    "# Produce some nice data.\n",
    "n_mer, n_long = 6, 11\n",
    "pi = np.pi\n",
    "dphi = pi/1000.0\n",
    "phi = np.arange(0.0, 2*pi + 0.5*dphi, dphi, 'd')\n",
    "mu = phi*n_mer\n",
    "x = np.cos(mu)*(1+np.cos(n_long*mu/n_mer)*0.5)\n",
    "y = np.sin(mu)*(1+np.cos(n_long*mu/n_mer)*0.5)\n",
    "z = np.sin(n_long*mu/n_mer)*0.5\n",
    "\n",
    "# View it.\n",
    "l = mlab.plot3d(x, y, z, np.sin(mu), tube_radius=0.025, colormap='Spectral')\n",
    "\n",
    "# Now animate the data.\n",
    "ms = l.mlab_source\n",
    "for i in range(10):\n",
    "    x = np.cos(mu)*(1+np.cos(n_long*mu/n_mer +\n",
    "                                      np.pi*(i+1)/5.)*0.5)\n",
    "    scalars = np.sin(mu + np.pi*(i+1)/5)\n",
    "    ms.trait_set(x=x, scalars=scalars)"
   ]
  },
  {
   "cell_type": "code",
   "execution_count": 2,
   "metadata": {},
   "outputs": [],
   "source": [
    "import numpy as np\n",
    "from mayavi import mlab\n",
    "x, y = np.mgrid[0:3:1,0:3:1]\n",
    "s = mlab.surf(x, y, np.asarray(x*0.1, 'd'))\n",
    "\n",
    "@mlab.animate\n",
    "def anim():\n",
    "    while True:\n",
    "        for i in range(10):\n",
    "            s.mlab_source.scalars = np.asarray(x*0.1*(i+1), 'd')\n",
    "            yield\n",
    "\n",
    "anim()\n",
    "\n",
    " "
   ]
  },
  {
   "cell_type": "code",
   "execution_count": 2,
   "metadata": {},
   "outputs": [
    {
     "ename": "NameError",
     "evalue": "name 'mlab' is not defined",
     "output_type": "error",
     "traceback": [
      "\u001b[1;31m---------------------------------------------------------------------------\u001b[0m",
      "\u001b[1;31mNameError\u001b[0m                                 Traceback (most recent call last)",
      "Cell \u001b[1;32mIn[2], line 30\u001b[0m\n\u001b[0;32m     27\u001b[0m     \u001b[38;5;28;01mreturn\u001b[39;00m mesh(x, y, z, colormap\u001b[38;5;241m=\u001b[39m\u001b[38;5;124m\"\u001b[39m\u001b[38;5;124mbone\u001b[39m\u001b[38;5;124m\"\u001b[39m)\n\u001b[0;32m     29\u001b[0m test_mesh()\n\u001b[1;32m---> 30\u001b[0m \u001b[43mmlab\u001b[49m\u001b[38;5;241m.\u001b[39mshow()\n",
      "\u001b[1;31mNameError\u001b[0m: name 'mlab' is not defined"
     ]
    }
   ],
   "source": [
    "import numpy as np\n",
    "from mayavi import mlab\n",
    "\n",
    "def test_mesh():\n",
    "    \"\"\"A very pretty picture of spherical harmonics translated from\n",
    "    the octaviz example.\"\"\"\n",
    "    pi = np.pi\n",
    "    cos = np.cos\n",
    "    sin = np.sin\n",
    "    dphi, dtheta = pi / 250.0, pi / 250.0\n",
    "    [phi, theta] = np.mgrid[0:pi + dphi * 1.5:dphi,\n",
    "                            0:2 * pi + dtheta * 1.5:dtheta]\n",
    "    m0 = 4\n",
    "    m1 = 3\n",
    "    m2 = 2\n",
    "    m3 = 3\n",
    "    m4 = 6\n",
    "    m5 = 2\n",
    "    m6 = 6\n",
    "    m7 = 4\n",
    "    r = sin(m0 * phi) ** m1 + cos(m2 * phi) ** m3 + \\\n",
    "        sin(m4 * theta) ** m5 + cos(m6 * theta) ** m7\n",
    "    x = r * sin(phi) * cos(theta)\n",
    "    y = r * cos(phi)\n",
    "    z = r * sin(phi) * sin(theta)\n",
    "\n",
    "    return mesh(x, y, z, colormap=\"bone\")\n",
    "\n",
    "test_mesh()\n",
    "mlab.show()"
   ]
  }
 ],
 "metadata": {
  "kernelspec": {
   "display_name": "researchCode",
   "language": "python",
   "name": "python3"
  },
  "language_info": {
   "codemirror_mode": {
    "name": "ipython",
    "version": 3
   },
   "file_extension": ".py",
   "mimetype": "text/x-python",
   "name": "python",
   "nbconvert_exporter": "python",
   "pygments_lexer": "ipython3",
   "version": "3.7.0"
  }
 },
 "nbformat": 4,
 "nbformat_minor": 2
}
